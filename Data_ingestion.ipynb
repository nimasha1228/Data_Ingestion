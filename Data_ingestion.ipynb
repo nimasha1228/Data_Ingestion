{
  "nbformat": 4,
  "nbformat_minor": 0,
  "metadata": {
    "colab": {
      "name": "Data Glacier Data ingestion.ipynb",
      "provenance": [],
      "collapsed_sections": [],
      "include_colab_link": true
    },
    "kernelspec": {
      "name": "python3",
      "display_name": "Python 3"
    },
    "language_info": {
      "name": "python"
    }
  },
  "cells": [
    {
      "cell_type": "markdown",
      "metadata": {
        "id": "view-in-github",
        "colab_type": "text"
      },
      "source": [
        "<a href=\"https://colab.research.google.com/github/nimasha1228/Data_Ingestion/blob/main/Data_ingestion.ipynb\" target=\"_parent\"><img src=\"https://colab.research.google.com/assets/colab-badge.svg\" alt=\"Open In Colab\"/></a>"
      ]
    },
    {
      "cell_type": "markdown",
      "source": [
        "# Download the Dataset \n",
        "\n",
        "The dataset was taken from the G-Research Crypto Forecasting competition. The csv file is in google drive and could be downloaded by following code. "
      ],
      "metadata": {
        "id": "fZdk46qbxmnV"
      }
    },
    {
      "cell_type": "code",
      "source": [
        "from google_drive_downloader import GoogleDriveDownloader as gdd\n",
        "\n",
        "FILE_PATH = \"/content/Data/train.csv.zip\"\n",
        "# Link: https://drive.google.com/file/d/1-sZwK6sq5BgI99hH-WNgJpKz42cgEcme/view?usp=sharing\n",
        "\n",
        "gdd.download_file_from_google_drive(file_id='1-sZwK6sq5BgI99hH-WNgJpKz42cgEcme',\n",
        "                                    dest_path=FILE_PATH,\n",
        "                                    unzip=True)"
      ],
      "metadata": {
        "id": "U1EQPDKLxj2l",
        "colab": {
          "base_uri": "https://localhost:8080/"
        },
        "outputId": "6e2cedf5-9532-4f1e-ef22-363eb4d6b65d"
      },
      "execution_count": null,
      "outputs": [
        {
          "output_type": "stream",
          "name": "stdout",
          "text": [
            "Downloading 1-sZwK6sq5BgI99hH-WNgJpKz42cgEcme into /content/Data/train.csv.zip... Done.\n",
            "Unzipping...Done.\n"
          ]
        }
      ]
    },
    {
      "cell_type": "code",
      "source": [
        "%%writefile testutility.py\n",
        "import logging\n",
        "import os\n",
        "import subprocess\n",
        "import yaml\n",
        "import pandas as pd\n",
        "import datetime \n",
        "import gc\n",
        "import re\n",
        "\n",
        "\n",
        "################\n",
        "# File Reading #\n",
        "################\n",
        "\n",
        "def read_dataset(filepath, method='pandas'):\n",
        "    if method == 'pandas':\n",
        "        ds = pd.read_csv(filepath)\n",
        "        return ds\n",
        "\n",
        "\n",
        "def read_config_file(filepath):\n",
        "\n",
        "    with open(filepath, 'r') as stream:\n",
        "        try:\n",
        "            return yaml.safe_load(stream)\n",
        "        except yaml.YAMLError as exc:\n",
        "            logging.error(exc)\n",
        "\n",
        "\n",
        "def replacer(string, char):\n",
        "    pattern = char + '{2,}'\n",
        "    string = re.sub(pattern, char, string) \n",
        "    return string\n",
        "\n",
        "def col_header_val(df,table_config):\n",
        "    '''\n",
        "    replace whitespaces in the column\n",
        "    and standardized column names\n",
        "    '''\n",
        "    df.columns = df.columns.str.lower()\n",
        "    df.columns = df.columns.str.replace('[^\\w]','_',regex=True)\n",
        "    df.columns = list(map(lambda x: x.strip('_'), list(df.columns)))\n",
        "    df.columns = list(map(lambda x: replacer(x,'_'), list(df.columns)))\n",
        "    expected_col = list(map(lambda x: x.lower(),  table_config['columns']))\n",
        "    expected_col.sort()\n",
        "    df.columns =list(map(lambda x: x.lower(), list(df.columns)))\n",
        "    df = df.reindex(sorted(df.columns), axis=1)\n",
        "    if len(df.columns) == len(expected_col) and list(expected_col)  == list(df.columns):\n",
        "        print(\"column name and column length validation passed\")\n",
        "        return 1\n",
        "    else:\n",
        "        print(\"column name and column length validation failed\")\n",
        "        mismatched_columns_file = list(set(df.columns).difference(expected_col))\n",
        "        print(\"Following File columns are not in the YAML file\",mismatched_columns_file)\n",
        "        missing_YAML_file = list(set(expected_col).difference(df.columns))\n",
        "        print(\"Following YAML columns are not in the file uploaded\",missing_YAML_file)\n",
        "        logging.info(f'df columns: {df.columns}')\n",
        "        logging.info(f'expected columns: {expected_col}')\n",
        "        return 0\n"
      ],
      "metadata": {
        "id": "PFJyyldcHWhH",
        "colab": {
          "base_uri": "https://localhost:8080/"
        },
        "outputId": "a602ec07-d8ad-4202-8949-0e4f50c93186"
      },
      "execution_count": null,
      "outputs": [
        {
          "output_type": "stream",
          "name": "stdout",
          "text": [
            "Writing testutility.py\n"
          ]
        }
      ]
    },
    {
      "cell_type": "markdown",
      "source": [
        "**Read Data File Using Pandas, Dask, Modin, Ray**"
      ],
      "metadata": {
        "id": "pGQ13Q9cPmOg"
      }
    },
    {
      "cell_type": "markdown",
      "source": [
        "**Pandas**"
      ],
      "metadata": {
        "id": "4f9835lyQnub"
      }
    },
    {
      "cell_type": "code",
      "source": [
        "import pandas as pd"
      ],
      "metadata": {
        "id": "uWRgdzok0l2h"
      },
      "execution_count": null,
      "outputs": []
    },
    {
      "cell_type": "code",
      "source": [
        "%%time\n",
        "df = pd.read_csv('/content/Data/train.csv')\n",
        "print(df.head())"
      ],
      "metadata": {
        "id": "1t-wykfRL0jZ",
        "colab": {
          "base_uri": "https://localhost:8080/"
        },
        "outputId": "1d5cb6d0-5376-49e7-fdfd-bb68010b95f7"
      },
      "execution_count": null,
      "outputs": [
        {
          "output_type": "stream",
          "name": "stdout",
          "text": [
            "    timestamp  Asset_ID  Count  ...       Volume          VWAP    Target\n",
            "0  1514764860         2   40.0  ...    19.233005   2373.116392 -0.004218\n",
            "1  1514764860         0    5.0  ...    78.380000      8.530000 -0.014399\n",
            "2  1514764860         1  229.0  ...    31.550062  13827.062093 -0.014643\n",
            "3  1514764860         5   32.0  ...  6626.713370      7.657713 -0.013922\n",
            "4  1514764860         7    5.0  ...   121.087310     25.891363 -0.008264\n",
            "\n",
            "[5 rows x 10 columns]\n",
            "CPU times: user 29.5 s, sys: 4.46 s, total: 34 s\n",
            "Wall time: 33.9 s\n"
          ]
        }
      ]
    },
    {
      "cell_type": "markdown",
      "source": [
        "--------- End -----------"
      ],
      "metadata": {
        "id": "9Ih9_00SYwRT"
      }
    },
    {
      "cell_type": "markdown",
      "source": [
        "**Modin**"
      ],
      "metadata": {
        "id": "MulKRhfjR1fj"
      }
    },
    {
      "cell_type": "code",
      "source": [
        "!pip install \"modin[ray]\" # Install Modin dependencies and Ray to run on Ray"
      ],
      "metadata": {
        "id": "lhlVSvJAQDps",
        "colab": {
          "base_uri": "https://localhost:8080/",
          "height": 1000
        },
        "outputId": "db157044-5648-4001-efa2-daad01e19104"
      },
      "execution_count": null,
      "outputs": [
        {
          "output_type": "stream",
          "name": "stdout",
          "text": [
            "Collecting modin[ray]\n",
            "  Downloading modin-0.12.1-py3-none-any.whl (761 kB)\n",
            "\u001b[K     |████████████████████████████████| 761 kB 5.0 MB/s \n",
            "\u001b[?25hCollecting fsspec\n",
            "  Downloading fsspec-2022.1.0-py3-none-any.whl (133 kB)\n",
            "\u001b[K     |████████████████████████████████| 133 kB 51.5 MB/s \n",
            "\u001b[?25hCollecting pandas==1.3.5\n",
            "  Downloading pandas-1.3.5-cp37-cp37m-manylinux_2_17_x86_64.manylinux2014_x86_64.whl (11.3 MB)\n",
            "\u001b[K     |████████████████████████████████| 11.3 MB 49.4 MB/s \n",
            "\u001b[?25hRequirement already satisfied: packaging in /usr/local/lib/python3.7/dist-packages (from modin[ray]) (21.3)\n",
            "Requirement already satisfied: numpy>=1.16.5 in /usr/local/lib/python3.7/dist-packages (from modin[ray]) (1.19.5)\n",
            "Requirement already satisfied: pyarrow>=1.0 in /usr/local/lib/python3.7/dist-packages (from modin[ray]) (3.0.0)\n",
            "Collecting ray[default]>=1.4.0\n",
            "  Downloading ray-1.9.2-cp37-cp37m-manylinux2014_x86_64.whl (57.6 MB)\n",
            "\u001b[K     |████████████████████████████████| 57.6 MB 1.3 MB/s \n",
            "\u001b[?25hRequirement already satisfied: pytz>=2017.3 in /usr/local/lib/python3.7/dist-packages (from pandas==1.3.5->modin[ray]) (2018.9)\n",
            "Requirement already satisfied: python-dateutil>=2.7.3 in /usr/local/lib/python3.7/dist-packages (from pandas==1.3.5->modin[ray]) (2.8.2)\n",
            "Requirement already satisfied: six>=1.5 in /usr/local/lib/python3.7/dist-packages (from python-dateutil>=2.7.3->pandas==1.3.5->modin[ray]) (1.15.0)\n",
            "Requirement already satisfied: protobuf>=3.15.3 in /usr/local/lib/python3.7/dist-packages (from ray[default]>=1.4.0->modin[ray]) (3.17.3)\n",
            "Requirement already satisfied: jsonschema in /usr/local/lib/python3.7/dist-packages (from ray[default]>=1.4.0->modin[ray]) (4.3.3)\n",
            "Requirement already satisfied: click>=7.0 in /usr/local/lib/python3.7/dist-packages (from ray[default]>=1.4.0->modin[ray]) (7.1.2)\n",
            "Requirement already satisfied: pyyaml in /usr/local/lib/python3.7/dist-packages (from ray[default]>=1.4.0->modin[ray]) (3.13)\n",
            "Requirement already satisfied: grpcio>=1.28.1 in /usr/local/lib/python3.7/dist-packages (from ray[default]>=1.4.0->modin[ray]) (1.43.0)\n",
            "Requirement already satisfied: msgpack<2.0.0,>=1.0.0 in /usr/local/lib/python3.7/dist-packages (from ray[default]>=1.4.0->modin[ray]) (1.0.3)\n",
            "Requirement already satisfied: filelock in /usr/local/lib/python3.7/dist-packages (from ray[default]>=1.4.0->modin[ray]) (3.4.2)\n",
            "Requirement already satisfied: attrs in /usr/local/lib/python3.7/dist-packages (from ray[default]>=1.4.0->modin[ray]) (21.4.0)\n",
            "Collecting redis>=3.5.0\n",
            "  Downloading redis-4.1.0-py3-none-any.whl (171 kB)\n",
            "\u001b[K     |████████████████████████████████| 171 kB 55.7 MB/s \n",
            "\u001b[?25hRequirement already satisfied: prometheus-client>=0.7.1 in /usr/local/lib/python3.7/dist-packages (from ray[default]>=1.4.0->modin[ray]) (0.12.0)\n",
            "Collecting aioredis<2\n",
            "  Downloading aioredis-1.3.1-py3-none-any.whl (65 kB)\n",
            "\u001b[K     |████████████████████████████████| 65 kB 3.4 MB/s \n",
            "\u001b[?25hCollecting opencensus\n",
            "  Downloading opencensus-0.8.0-py2.py3-none-any.whl (128 kB)\n",
            "\u001b[K     |████████████████████████████████| 128 kB 55.8 MB/s \n",
            "\u001b[?25hCollecting aiohttp-cors\n",
            "  Downloading aiohttp_cors-0.7.0-py3-none-any.whl (27 kB)\n",
            "Requirement already satisfied: smart-open in /usr/local/lib/python3.7/dist-packages (from ray[default]>=1.4.0->modin[ray]) (5.2.1)\n",
            "Collecting py-spy>=0.2.0\n",
            "  Downloading py_spy-0.3.11-py2.py3-none-manylinux_2_5_x86_64.manylinux1_x86_64.whl (3.0 MB)\n",
            "\u001b[K     |████████████████████████████████| 3.0 MB 56.3 MB/s \n",
            "\u001b[?25hCollecting frozenlist\n",
            "  Downloading frozenlist-1.2.0-cp37-cp37m-manylinux_2_5_x86_64.manylinux1_x86_64.manylinux_2_12_x86_64.manylinux2010_x86_64.whl (192 kB)\n",
            "\u001b[K     |████████████████████████████████| 192 kB 54.0 MB/s \n",
            "\u001b[?25hCollecting aiohttp>=3.7\n",
            "  Downloading aiohttp-3.8.1-cp37-cp37m-manylinux_2_5_x86_64.manylinux1_x86_64.manylinux_2_12_x86_64.manylinux2010_x86_64.whl (1.1 MB)\n",
            "\u001b[K     |████████████████████████████████| 1.1 MB 51.5 MB/s \n",
            "\u001b[?25hRequirement already satisfied: requests in /usr/local/lib/python3.7/dist-packages (from ray[default]>=1.4.0->modin[ray]) (2.23.0)\n",
            "Collecting colorful\n",
            "  Downloading colorful-0.5.4-py2.py3-none-any.whl (201 kB)\n",
            "\u001b[K     |████████████████████████████████| 201 kB 75.4 MB/s \n",
            "\u001b[?25hCollecting gpustat>=1.0.0b1\n",
            "  Downloading gpustat-1.0.0b1.tar.gz (82 kB)\n",
            "\u001b[K     |████████████████████████████████| 82 kB 208 kB/s \n",
            "\u001b[?25hCollecting aiosignal\n",
            "  Downloading aiosignal-1.2.0-py3-none-any.whl (8.2 kB)\n",
            "Requirement already satisfied: charset-normalizer<3.0,>=2.0 in /usr/local/lib/python3.7/dist-packages (from aiohttp>=3.7->ray[default]>=1.4.0->modin[ray]) (2.0.10)\n",
            "Collecting multidict<7.0,>=4.5\n",
            "  Downloading multidict-5.2.0-cp37-cp37m-manylinux_2_5_x86_64.manylinux1_x86_64.manylinux_2_12_x86_64.manylinux2010_x86_64.whl (160 kB)\n",
            "\u001b[K     |████████████████████████████████| 160 kB 66.5 MB/s \n",
            "\u001b[?25hCollecting asynctest==0.13.0\n",
            "  Downloading asynctest-0.13.0-py3-none-any.whl (26 kB)\n",
            "Collecting yarl<2.0,>=1.0\n",
            "  Downloading yarl-1.7.2-cp37-cp37m-manylinux_2_5_x86_64.manylinux1_x86_64.manylinux_2_12_x86_64.manylinux2010_x86_64.whl (271 kB)\n",
            "\u001b[K     |████████████████████████████████| 271 kB 75.7 MB/s \n",
            "\u001b[?25hCollecting async-timeout<5.0,>=4.0.0a3\n",
            "  Downloading async_timeout-4.0.2-py3-none-any.whl (5.8 kB)\n",
            "Requirement already satisfied: typing-extensions>=3.7.4 in /usr/local/lib/python3.7/dist-packages (from aiohttp>=3.7->ray[default]>=1.4.0->modin[ray]) (3.10.0.2)\n",
            "Collecting hiredis\n",
            "  Downloading hiredis-2.0.0-cp37-cp37m-manylinux2010_x86_64.whl (85 kB)\n",
            "\u001b[K     |████████████████████████████████| 85 kB 3.3 MB/s \n",
            "\u001b[?25hRequirement already satisfied: nvidia-ml-py3>=7.352.0 in /usr/local/lib/python3.7/dist-packages (from gpustat>=1.0.0b1->ray[default]>=1.4.0->modin[ray]) (7.352.0)\n",
            "Requirement already satisfied: psutil in /usr/local/lib/python3.7/dist-packages (from gpustat>=1.0.0b1->ray[default]>=1.4.0->modin[ray]) (5.4.8)\n",
            "Collecting blessed>=1.17.1\n",
            "  Downloading blessed-1.19.0-py2.py3-none-any.whl (57 kB)\n",
            "\u001b[K     |████████████████████████████████| 57 kB 4.5 MB/s \n",
            "\u001b[?25hRequirement already satisfied: wcwidth>=0.1.4 in /usr/local/lib/python3.7/dist-packages (from blessed>=1.17.1->gpustat>=1.0.0b1->ray[default]>=1.4.0->modin[ray]) (0.2.5)\n",
            "Collecting deprecated>=1.2.3\n",
            "  Downloading Deprecated-1.2.13-py2.py3-none-any.whl (9.6 kB)\n",
            "Requirement already satisfied: importlib-metadata>=1.0 in /usr/local/lib/python3.7/dist-packages (from redis>=3.5.0->ray[default]>=1.4.0->modin[ray]) (4.10.0)\n",
            "Requirement already satisfied: wrapt<2,>=1.10 in /usr/local/lib/python3.7/dist-packages (from deprecated>=1.2.3->redis>=3.5.0->ray[default]>=1.4.0->modin[ray]) (1.13.3)\n",
            "Requirement already satisfied: zipp>=0.5 in /usr/local/lib/python3.7/dist-packages (from importlib-metadata>=1.0->redis>=3.5.0->ray[default]>=1.4.0->modin[ray]) (3.7.0)\n",
            "Requirement already satisfied: pyparsing!=3.0.5,>=2.0.2 in /usr/local/lib/python3.7/dist-packages (from packaging->modin[ray]) (3.0.6)\n",
            "Requirement already satisfied: idna>=2.0 in /usr/local/lib/python3.7/dist-packages (from yarl<2.0,>=1.0->aiohttp>=3.7->ray[default]>=1.4.0->modin[ray]) (2.10)\n",
            "Requirement already satisfied: pyrsistent!=0.17.0,!=0.17.1,!=0.17.2,>=0.14.0 in /usr/local/lib/python3.7/dist-packages (from jsonschema->ray[default]>=1.4.0->modin[ray]) (0.18.0)\n",
            "Requirement already satisfied: importlib-resources>=1.4.0 in /usr/local/lib/python3.7/dist-packages (from jsonschema->ray[default]>=1.4.0->modin[ray]) (5.4.0)\n",
            "Requirement already satisfied: google-api-core<3.0.0,>=1.0.0 in /usr/local/lib/python3.7/dist-packages (from opencensus->ray[default]>=1.4.0->modin[ray]) (1.26.3)\n",
            "Collecting opencensus-context==0.1.2\n",
            "  Downloading opencensus_context-0.1.2-py2.py3-none-any.whl (4.4 kB)\n",
            "Requirement already satisfied: google-auth<2.0dev,>=1.21.1 in /usr/local/lib/python3.7/dist-packages (from google-api-core<3.0.0,>=1.0.0->opencensus->ray[default]>=1.4.0->modin[ray]) (1.35.0)\n",
            "Requirement already satisfied: googleapis-common-protos<2.0dev,>=1.6.0 in /usr/local/lib/python3.7/dist-packages (from google-api-core<3.0.0,>=1.0.0->opencensus->ray[default]>=1.4.0->modin[ray]) (1.54.0)\n",
            "Requirement already satisfied: setuptools>=40.3.0 in /usr/local/lib/python3.7/dist-packages (from google-api-core<3.0.0,>=1.0.0->opencensus->ray[default]>=1.4.0->modin[ray]) (57.4.0)\n",
            "Requirement already satisfied: cachetools<5.0,>=2.0.0 in /usr/local/lib/python3.7/dist-packages (from google-auth<2.0dev,>=1.21.1->google-api-core<3.0.0,>=1.0.0->opencensus->ray[default]>=1.4.0->modin[ray]) (4.2.4)\n",
            "Requirement already satisfied: pyasn1-modules>=0.2.1 in /usr/local/lib/python3.7/dist-packages (from google-auth<2.0dev,>=1.21.1->google-api-core<3.0.0,>=1.0.0->opencensus->ray[default]>=1.4.0->modin[ray]) (0.2.8)\n",
            "Requirement already satisfied: rsa<5,>=3.1.4 in /usr/local/lib/python3.7/dist-packages (from google-auth<2.0dev,>=1.21.1->google-api-core<3.0.0,>=1.0.0->opencensus->ray[default]>=1.4.0->modin[ray]) (4.8)\n",
            "Requirement already satisfied: pyasn1<0.5.0,>=0.4.6 in /usr/local/lib/python3.7/dist-packages (from pyasn1-modules>=0.2.1->google-auth<2.0dev,>=1.21.1->google-api-core<3.0.0,>=1.0.0->opencensus->ray[default]>=1.4.0->modin[ray]) (0.4.8)\n",
            "Requirement already satisfied: chardet<4,>=3.0.2 in /usr/local/lib/python3.7/dist-packages (from requests->ray[default]>=1.4.0->modin[ray]) (3.0.4)\n",
            "Requirement already satisfied: urllib3!=1.25.0,!=1.25.1,<1.26,>=1.21.1 in /usr/local/lib/python3.7/dist-packages (from requests->ray[default]>=1.4.0->modin[ray]) (1.24.3)\n",
            "Requirement already satisfied: certifi>=2017.4.17 in /usr/local/lib/python3.7/dist-packages (from requests->ray[default]>=1.4.0->modin[ray]) (2021.10.8)\n",
            "Building wheels for collected packages: gpustat\n",
            "  Building wheel for gpustat (setup.py) ... \u001b[?25l\u001b[?25hdone\n",
            "  Created wheel for gpustat: filename=gpustat-1.0.0b1-py3-none-any.whl size=15979 sha256=f1955f95b7f8218f3a0cec5a87be64d2adbc15f22b4ae3d6b9bbc3a24f6ba411\n",
            "  Stored in directory: /root/.cache/pip/wheels/1a/16/e2/3e2437fba4c4b6a97a97bd96fce5d14e66cff5c4966fb1cc8c\n",
            "Successfully built gpustat\n",
            "Installing collected packages: multidict, frozenlist, yarl, deprecated, asynctest, async-timeout, aiosignal, redis, opencensus-context, hiredis, blessed, aiohttp, ray, py-spy, pandas, opencensus, gpustat, fsspec, colorful, aioredis, aiohttp-cors, modin\n",
            "  Attempting uninstall: pandas\n",
            "    Found existing installation: pandas 1.1.5\n",
            "    Uninstalling pandas-1.1.5:\n",
            "      Successfully uninstalled pandas-1.1.5\n",
            "\u001b[31mERROR: pip's dependency resolver does not currently take into account all the packages that are installed. This behaviour is the source of the following dependency conflicts.\n",
            "google-colab 1.0.0 requires pandas~=1.1.0; python_version >= \"3.0\", but you have pandas 1.3.5 which is incompatible.\u001b[0m\n",
            "Successfully installed aiohttp-3.8.1 aiohttp-cors-0.7.0 aioredis-1.3.1 aiosignal-1.2.0 async-timeout-4.0.2 asynctest-0.13.0 blessed-1.19.0 colorful-0.5.4 deprecated-1.2.13 frozenlist-1.2.0 fsspec-2022.1.0 gpustat-1.0.0b1 hiredis-2.0.0 modin-0.12.1 multidict-5.2.0 opencensus-0.8.0 opencensus-context-0.1.2 pandas-1.3.5 py-spy-0.3.11 ray-1.9.2 redis-4.1.0 yarl-1.7.2\n"
          ]
        },
        {
          "output_type": "display_data",
          "data": {
            "application/vnd.colab-display-data+json": {
              "pip_warning": {
                "packages": [
                  "pandas"
                ]
              }
            }
          },
          "metadata": {}
        }
      ]
    },
    {
      "cell_type": "code",
      "source": [
        "!pip install \"modin[dask]\" # Install Modin dependencies and Dask to run on Dask"
      ],
      "metadata": {
        "id": "9SYQ5yxzZm3W",
        "colab": {
          "base_uri": "https://localhost:8080/"
        },
        "outputId": "7ee81c21-ca77-4559-9885-afc93fafe45b"
      },
      "execution_count": null,
      "outputs": [
        {
          "output_type": "stream",
          "name": "stdout",
          "text": [
            "Requirement already satisfied: modin[dask] in /usr/local/lib/python3.7/dist-packages (0.12.1)\n",
            "Requirement already satisfied: fsspec in /usr/local/lib/python3.7/dist-packages (from modin[dask]) (2022.1.0)\n",
            "Requirement already satisfied: packaging in /usr/local/lib/python3.7/dist-packages (from modin[dask]) (21.3)\n",
            "Requirement already satisfied: numpy>=1.16.5 in /usr/local/lib/python3.7/dist-packages (from modin[dask]) (1.19.5)\n",
            "Requirement already satisfied: pandas==1.3.5 in /usr/local/lib/python3.7/dist-packages (from modin[dask]) (1.3.5)\n",
            "Collecting dask>=2.22.0\n",
            "  Downloading dask-2022.1.0-py3-none-any.whl (1.0 MB)\n",
            "\u001b[K     |████████████████████████████████| 1.0 MB 5.0 MB/s \n",
            "\u001b[?25hCollecting distributed>=2.22.0\n",
            "  Downloading distributed-2022.1.0-py3-none-any.whl (822 kB)\n",
            "\u001b[K     |████████████████████████████████| 822 kB 49.0 MB/s \n",
            "\u001b[?25hRequirement already satisfied: python-dateutil>=2.7.3 in /usr/local/lib/python3.7/dist-packages (from pandas==1.3.5->modin[dask]) (2.8.2)\n",
            "Requirement already satisfied: pytz>=2017.3 in /usr/local/lib/python3.7/dist-packages (from pandas==1.3.5->modin[dask]) (2018.9)\n",
            "Requirement already satisfied: cloudpickle>=1.1.1 in /usr/local/lib/python3.7/dist-packages (from dask>=2.22.0->modin[dask]) (1.3.0)\n",
            "Requirement already satisfied: toolz>=0.8.2 in /usr/local/lib/python3.7/dist-packages (from dask>=2.22.0->modin[dask]) (0.11.2)\n",
            "Collecting pyyaml>=5.3.1\n",
            "  Downloading PyYAML-6.0-cp37-cp37m-manylinux_2_5_x86_64.manylinux1_x86_64.manylinux_2_12_x86_64.manylinux2010_x86_64.whl (596 kB)\n",
            "\u001b[K     |████████████████████████████████| 596 kB 58.8 MB/s \n",
            "\u001b[?25hCollecting partd>=0.3.10\n",
            "  Downloading partd-1.2.0-py3-none-any.whl (19 kB)\n",
            "Requirement already satisfied: sortedcontainers!=2.0.0,!=2.0.1 in /usr/local/lib/python3.7/dist-packages (from distributed>=2.22.0->modin[dask]) (2.4.0)\n",
            "Requirement already satisfied: msgpack>=0.6.0 in /usr/local/lib/python3.7/dist-packages (from distributed>=2.22.0->modin[dask]) (1.0.3)\n",
            "Requirement already satisfied: psutil>=5.0 in /usr/local/lib/python3.7/dist-packages (from distributed>=2.22.0->modin[dask]) (5.4.8)\n",
            "Requirement already satisfied: tblib>=1.6.0 in /usr/local/lib/python3.7/dist-packages (from distributed>=2.22.0->modin[dask]) (1.7.0)\n",
            "Collecting cloudpickle>=1.1.1\n",
            "  Downloading cloudpickle-2.0.0-py3-none-any.whl (25 kB)\n",
            "Requirement already satisfied: click>=6.6 in /usr/local/lib/python3.7/dist-packages (from distributed>=2.22.0->modin[dask]) (7.1.2)\n",
            "Requirement already satisfied: tornado>=5 in /usr/local/lib/python3.7/dist-packages (from distributed>=2.22.0->modin[dask]) (5.1.1)\n",
            "Requirement already satisfied: zict>=0.1.3 in /usr/local/lib/python3.7/dist-packages (from distributed>=2.22.0->modin[dask]) (2.0.0)\n",
            "Requirement already satisfied: jinja2 in /usr/local/lib/python3.7/dist-packages (from distributed>=2.22.0->modin[dask]) (2.11.3)\n",
            "Requirement already satisfied: setuptools in /usr/local/lib/python3.7/dist-packages (from distributed>=2.22.0->modin[dask]) (57.4.0)\n",
            "Requirement already satisfied: pyparsing!=3.0.5,>=2.0.2 in /usr/local/lib/python3.7/dist-packages (from packaging->modin[dask]) (3.0.6)\n",
            "Collecting locket\n",
            "  Downloading locket-0.2.1-py2.py3-none-any.whl (4.1 kB)\n",
            "Requirement already satisfied: six>=1.5 in /usr/local/lib/python3.7/dist-packages (from python-dateutil>=2.7.3->pandas==1.3.5->modin[dask]) (1.15.0)\n",
            "Requirement already satisfied: heapdict in /usr/local/lib/python3.7/dist-packages (from zict>=0.1.3->distributed>=2.22.0->modin[dask]) (1.0.1)\n",
            "Requirement already satisfied: MarkupSafe>=0.23 in /usr/local/lib/python3.7/dist-packages (from jinja2->distributed>=2.22.0->modin[dask]) (2.0.1)\n",
            "Installing collected packages: locket, pyyaml, partd, cloudpickle, dask, distributed\n",
            "  Attempting uninstall: pyyaml\n",
            "    Found existing installation: PyYAML 3.13\n",
            "    Uninstalling PyYAML-3.13:\n",
            "      Successfully uninstalled PyYAML-3.13\n",
            "  Attempting uninstall: cloudpickle\n",
            "    Found existing installation: cloudpickle 1.3.0\n",
            "    Uninstalling cloudpickle-1.3.0:\n",
            "      Successfully uninstalled cloudpickle-1.3.0\n",
            "  Attempting uninstall: dask\n",
            "    Found existing installation: dask 2.12.0\n",
            "    Uninstalling dask-2.12.0:\n",
            "      Successfully uninstalled dask-2.12.0\n",
            "  Attempting uninstall: distributed\n",
            "    Found existing installation: distributed 1.25.3\n",
            "    Uninstalling distributed-1.25.3:\n",
            "      Successfully uninstalled distributed-1.25.3\n",
            "\u001b[31mERROR: pip's dependency resolver does not currently take into account all the packages that are installed. This behaviour is the source of the following dependency conflicts.\n",
            "gym 0.17.3 requires cloudpickle<1.7.0,>=1.2.0, but you have cloudpickle 2.0.0 which is incompatible.\u001b[0m\n",
            "Successfully installed cloudpickle-2.0.0 dask-2022.1.0 distributed-2022.1.0 locket-0.2.1 partd-1.2.0 pyyaml-6.0\n"
          ]
        }
      ]
    },
    {
      "cell_type": "markdown",
      "source": [
        "Restart Runtime and Run the code"
      ],
      "metadata": {
        "id": "7yo6WzckbKWz"
      }
    },
    {
      "cell_type": "code",
      "source": [
        "import modin.pandas as pd"
      ],
      "metadata": {
        "id": "c4NdIFao1q5g"
      },
      "execution_count": null,
      "outputs": []
    },
    {
      "cell_type": "code",
      "source": [
        "%%time\n",
        "df = pd.read_csv('/content/Data/train.csv')\n",
        "print(df.head()) "
      ],
      "metadata": {
        "colab": {
          "base_uri": "https://localhost:8080/"
        },
        "id": "D82gGjjwZuTs",
        "outputId": "7f58b4c2-18b8-4a94-ad25-5f6930378088"
      },
      "execution_count": null,
      "outputs": [
        {
          "output_type": "stream",
          "name": "stderr",
          "text": [
            "UserWarning: Ray execution environment not yet initialized. Initializing...\n",
            "To remove this warning, run the following python code before doing dataframe operations:\n",
            "\n",
            "    import ray\n",
            "    ray.init()\n",
            "\n",
            "UserWarning: The size of /dev/shm is too small (6133121024 bytes). The required size at least half of RAM (6811095040 bytes). Please, delete files in /dev/shm or increase size of /dev/shm with --shm-size in Docker. Also, you can set the required memory size for each Ray worker in bytes to MODIN_MEMORY environment variable.\n",
            "\u001b[2m\u001b[36m(deploy_ray_func pid=1289)\u001b[0m tcmalloc: large alloc 1409646592 bytes == 0x56130e660000 @  0x7f99c0ec31e7 0x56130ae4af98 0x56130ae15e27 0x56130aef79be 0x56130af2e802 0x56130ae1b7da 0x56130ae8e18e 0x56130ae879ee 0x56130ae1abda 0x56130ae8cd00 0x56130ae879ee 0x56130ad59e2b 0x56130ae89fe4 0x56130ae879ee 0x56130ad59e2b 0x56130ae89fe4 0x56130ad59d14 0x7f99bdcaebc2 0x7f99bdd5d6fc 0x7f99bdcb5696 0x7f99bde4b3bb 0x7f99bdda6c7f 0x7f99bde72533 0x7f99bde7322a 0x7f99bde7ea7e 0x7f99bde5c25b 0x7f99be056806 0x7f99be42bcfb 0x7f99be42cf51 0x7f99be42d3d0 0x7f99bde576d0\n",
            "\u001b[2m\u001b[36m(deploy_ray_func pid=1288)\u001b[0m tcmalloc: large alloc 1409646592 bytes == 0x557d4f694000 @  0x7f522c3061e7 0x557d4c317f98 0x557d4c2e2e27 0x557d4c3c49be 0x557d4c3fb802 0x557d4c2e87da 0x557d4c35b18e 0x557d4c3549ee 0x557d4c2e7bda 0x557d4c359d00 0x557d4c3549ee 0x557d4c226e2b 0x557d4c356fe4 0x557d4c3549ee 0x557d4c226e2b 0x557d4c356fe4 0x557d4c226d14 0x7f52290f1bc2 0x7f52291a06fc 0x7f52290f8696 0x7f522928e3bb 0x7f52291e9c7f 0x7f52292b5533 0x7f52292b622a 0x7f52292c1a7e 0x7f522929f25b 0x7f5229499806 0x7f522986ecfb 0x7f522986ff51 0x7f52298703d0 0x7f522929a6d0\n",
            "\u001b[2m\u001b[36m(deploy_ray_func pid=1289)\u001b[0m tcmalloc: large alloc 1409646592 bytes == 0x5613626bc000 @  0x7f99c0ec31e7 0x56130ae4af98 0x56130ae1605c 0x56130ae89320 0x56130ae879ee 0x56130ad59e2b 0x56130ae89fe4 0x56130ae879ee 0x56130ad59e2b 0x56130ae89fe4 0x56130ad59d14 0x7f99bdcaebc2 0x7f99bdd5d6fc 0x7f99bdcb5696 0x7f99bde4b3bb 0x7f99bdda6c7f 0x7f99bde72533 0x7f99bde7322a 0x7f99bde7ea7e 0x7f99bde5c25b 0x7f99be056806 0x7f99be42bcfb 0x7f99be42cf51 0x7f99be42d3d0 0x7f99bde576d0 0x7f99bdcb0ec7 0x56130ae193a1 0x56130af0ae1d 0x56130ae8ce99 0x56130ae1aafa 0x56130ae88c0d\n",
            "\u001b[2m\u001b[36m(deploy_ray_func pid=1288)\u001b[0m tcmalloc: large alloc 1409646592 bytes == 0x557da36f4000 @  0x7f522c3061e7 0x557d4c317f98 0x557d4c2e305c 0x557d4c356320 0x557d4c3549ee 0x557d4c226e2b 0x557d4c356fe4 0x557d4c3549ee 0x557d4c226e2b 0x557d4c356fe4 0x557d4c226d14 0x7f52290f1bc2 0x7f52291a06fc 0x7f52290f8696 0x7f522928e3bb 0x7f52291e9c7f 0x7f52292b5533 0x7f52292b622a 0x7f52292c1a7e 0x7f522929f25b 0x7f5229499806 0x7f522986ecfb 0x7f522986ff51 0x7f52298703d0 0x7f522929a6d0 0x7f52290f3ec7 0x557d4c2e63a1 0x557d4c3d7e1d 0x557d4c359e99 0x557d4c2e7afa 0x557d4c355c0d\n"
          ]
        },
        {
          "output_type": "stream",
          "name": "stdout",
          "text": [
            "    timestamp  Asset_ID  Count  ...       Volume          VWAP    Target\n",
            "0  1514764860         2   40.0  ...    19.233005   2373.116392 -0.004218\n",
            "1  1514764860         0    5.0  ...    78.380000      8.530000 -0.014399\n",
            "2  1514764860         1  229.0  ...    31.550062  13827.062093 -0.014643\n",
            "3  1514764860         5   32.0  ...  6626.713370      7.657713 -0.013922\n",
            "4  1514764860         7    5.0  ...   121.087310     25.891363 -0.008264\n",
            "\n",
            "[5 rows x 10 columns]\n",
            "CPU times: user 4.65 s, sys: 4.2 s, total: 8.84 s\n",
            "Wall time: 57.1 s\n"
          ]
        }
      ]
    },
    {
      "cell_type": "markdown",
      "source": [
        "**Ray**"
      ],
      "metadata": {
        "id": "Ndoya_fXd1ga"
      }
    },
    {
      "cell_type": "markdown",
      "source": [
        "*Restart Runtime and Run the code*"
      ],
      "metadata": {
        "id": "Gc4sUHPv5pLR"
      }
    },
    {
      "cell_type": "code",
      "source": [
        "import os\n",
        "os.environ[\"MODIN_ENGINE\"] = \"ray\""
      ],
      "metadata": {
        "id": "jFWH7EuV2wYW"
      },
      "execution_count": null,
      "outputs": []
    },
    {
      "cell_type": "code",
      "source": [
        "import modin.pandas as pd"
      ],
      "metadata": {
        "id": "4dIBwCG35FPo"
      },
      "execution_count": null,
      "outputs": []
    },
    {
      "cell_type": "code",
      "source": [
        "%%time\n",
        "df = pd.read_csv('/content/Data/train.csv')\n",
        "print(df.head()) "
      ],
      "metadata": {
        "colab": {
          "base_uri": "https://localhost:8080/"
        },
        "outputId": "9417df0a-56f0-43e0-8e1e-60296848d632",
        "id": "Z7z3Jouc4sh9"
      },
      "execution_count": null,
      "outputs": [
        {
          "output_type": "stream",
          "name": "stderr",
          "text": [
            "UserWarning: Ray execution environment not yet initialized. Initializing...\n",
            "To remove this warning, run the following python code before doing dataframe operations:\n",
            "\n",
            "    import ray\n",
            "    ray.init()\n",
            "\n",
            "UserWarning: The size of /dev/shm is too small (6133121024 bytes). The required size at least half of RAM (6811095040 bytes). Please, delete files in /dev/shm or increase size of /dev/shm with --shm-size in Docker. Also, you can set the required memory size for each Ray worker in bytes to MODIN_MEMORY environment variable.\n",
            "\u001b[2m\u001b[36m(deploy_ray_func pid=885)\u001b[0m tcmalloc: large alloc 1409646592 bytes == 0x55685e31e000 @  0x7f6eb88df1e7 0x55685b99ef98 0x55685b969e27 0x55685ba4b9be 0x55685ba82802 0x55685b96f7da 0x55685b9e218e 0x55685b9db9ee 0x55685b96ebda 0x55685b9e0d00 0x55685b9db9ee 0x55685b8ade2b 0x55685b9ddfe4 0x55685b9db9ee 0x55685b8ade2b 0x55685b9ddfe4 0x55685b8add14 0x7f6eb56cabc2 0x7f6eb57796fc 0x7f6eb56d1696 0x7f6eb58673bb 0x7f6eb57c2c7f 0x7f6eb588e533 0x7f6eb588f22a 0x7f6eb589aa7e 0x7f6eb587825b 0x7f6eb5a72806 0x7f6eb5e47cfb 0x7f6eb5e48f51 0x7f6eb5e493d0 0x7f6eb58736d0\n",
            "\u001b[2m\u001b[36m(deploy_ray_func pid=884)\u001b[0m tcmalloc: large alloc 1409646592 bytes == 0x55a11e39c000 @  0x7f5826f1f1e7 0x55a11b4ddf98 0x55a11b4a8e27 0x55a11b58a9be 0x55a11b5c1802 0x55a11b4ae7da 0x55a11b52118e 0x55a11b51a9ee 0x55a11b4adbda 0x55a11b51fd00 0x55a11b51a9ee 0x55a11b3ece2b 0x55a11b51cfe4 0x55a11b51a9ee 0x55a11b3ece2b 0x55a11b51cfe4 0x55a11b3ecd14 0x7f5823d0abc2 0x7f5823db96fc 0x7f5823d11696 0x7f5823ea73bb 0x7f5823e02c7f 0x7f5823ece533 0x7f5823ecf22a 0x7f5823edaa7e 0x7f5823eb825b 0x7f58240b2806 0x7f5824487cfb 0x7f5824488f51 0x7f58244893d0 0x7f5823eb36d0\n",
            "\u001b[2m\u001b[36m(deploy_ray_func pid=885)\u001b[0m tcmalloc: large alloc 1409646592 bytes == 0x5568b237a000 @  0x7f6eb88df1e7 0x55685b99ef98 0x55685b96a05c 0x55685b9dd320 0x55685b9db9ee 0x55685b8ade2b 0x55685b9ddfe4 0x55685b9db9ee 0x55685b8ade2b 0x55685b9ddfe4 0x55685b8add14 0x7f6eb56cabc2 0x7f6eb57796fc 0x7f6eb56d1696 0x7f6eb58673bb 0x7f6eb57c2c7f 0x7f6eb588e533 0x7f6eb588f22a 0x7f6eb589aa7e 0x7f6eb587825b 0x7f6eb5a72806 0x7f6eb5e47cfb 0x7f6eb5e48f51 0x7f6eb5e493d0 0x7f6eb58736d0 0x7f6eb56ccec7 0x55685b96d3a1 0x55685ba5ee1d 0x55685b9e0e99 0x55685b96eafa 0x55685b9dcc0d\n",
            "\u001b[2m\u001b[36m(deploy_ray_func pid=884)\u001b[0m tcmalloc: large alloc 1409646592 bytes == 0x55a172400000 @  0x7f5826f1f1e7 0x55a11b4ddf98 0x55a11b4a905c 0x55a11b51c320 0x55a11b51a9ee 0x55a11b3ece2b 0x55a11b51cfe4 0x55a11b51a9ee 0x55a11b3ece2b 0x55a11b51cfe4 0x55a11b3ecd14 0x7f5823d0abc2 0x7f5823db96fc 0x7f5823d11696 0x7f5823ea73bb 0x7f5823e02c7f 0x7f5823ece533 0x7f5823ecf22a 0x7f5823edaa7e 0x7f5823eb825b 0x7f58240b2806 0x7f5824487cfb 0x7f5824488f51 0x7f58244893d0 0x7f5823eb36d0 0x7f5823d0cec7 0x55a11b4ac3a1 0x55a11b59de1d 0x55a11b51fe99 0x55a11b4adafa 0x55a11b51bc0d\n"
          ]
        },
        {
          "output_type": "stream",
          "name": "stdout",
          "text": [
            "    timestamp  Asset_ID  Count  ...       Volume          VWAP    Target\n",
            "0  1514764860         2   40.0  ...    19.233005   2373.116392 -0.004218\n",
            "1  1514764860         0    5.0  ...    78.380000      8.530000 -0.014399\n",
            "2  1514764860         1  229.0  ...    31.550062  13827.062093 -0.014643\n",
            "3  1514764860         5   32.0  ...  6626.713370      7.657713 -0.013922\n",
            "4  1514764860         7    5.0  ...   121.087310     25.891363 -0.008264\n",
            "\n",
            "[5 rows x 10 columns]\n",
            "CPU times: user 4.81 s, sys: 4.8 s, total: 9.61 s\n",
            "Wall time: 1min\n"
          ]
        }
      ]
    },
    {
      "cell_type": "markdown",
      "source": [
        "------------ End ------------"
      ],
      "metadata": {
        "id": "6AU8MP0BU2f7"
      }
    },
    {
      "cell_type": "markdown",
      "source": [
        "**Dask**"
      ],
      "metadata": {
        "id": "CX12xmhZSlia"
      }
    },
    {
      "cell_type": "markdown",
      "source": [
        "*Restart Run time and Run the code*"
      ],
      "metadata": {
        "id": "wCeGUBVQ87U6"
      }
    },
    {
      "cell_type": "code",
      "source": [
        "import os\n",
        "os.environ[\"MODIN_ENGINE\"] = \"dask\""
      ],
      "metadata": {
        "id": "ulN90Hfs570R"
      },
      "execution_count": null,
      "outputs": []
    },
    {
      "cell_type": "code",
      "source": [
        "import modin.pandas as pd"
      ],
      "metadata": {
        "id": "NBaAIR856Fxd"
      },
      "execution_count": null,
      "outputs": []
    },
    {
      "cell_type": "code",
      "source": [
        "%%time\n",
        "df = pd.read_csv('/content/Data/train.csv')\n",
        "print(df.head())"
      ],
      "metadata": {
        "colab": {
          "base_uri": "https://localhost:8080/"
        },
        "id": "aOsYdOkH6H_m",
        "outputId": "d6e4d64b-b5d8-4d82-f734-7fd51c6c3fbb"
      },
      "execution_count": null,
      "outputs": [
        {
          "output_type": "stream",
          "name": "stderr",
          "text": [
            "UserWarning: Dask execution environment not yet initialized. Initializing...\n",
            "To remove this warning, run the following python code before doing dataframe operations:\n",
            "\n",
            "    from distributed import Client\n",
            "\n",
            "    client = Client()\n",
            "\n"
          ]
        },
        {
          "output_type": "stream",
          "name": "stdout",
          "text": [
            "    timestamp  Asset_ID  Count  ...       Volume          VWAP    Target\n",
            "0  1514764860         2   40.0  ...    19.233005   2373.116392 -0.004218\n",
            "1  1514764860         0    5.0  ...    78.380000      8.530000 -0.014399\n",
            "2  1514764860         1  229.0  ...    31.550062  13827.062093 -0.014643\n",
            "3  1514764860         5   32.0  ...  6626.713370      7.657713 -0.013922\n",
            "4  1514764860         7    5.0  ...   121.087310     25.891363 -0.008264\n",
            "\n",
            "[5 rows x 10 columns]\n",
            "CPU times: user 7.51 s, sys: 15.5 s, total: 23 s\n",
            "Wall time: 1min 3s\n"
          ]
        }
      ]
    },
    {
      "cell_type": "code",
      "source": [
        "df.head()"
      ],
      "metadata": {
        "colab": {
          "base_uri": "https://localhost:8080/",
          "height": 206
        },
        "id": "0RaBk4en9tOD",
        "outputId": "bbddb248-4296-44f8-c4c0-1f0f489741f7"
      },
      "execution_count": null,
      "outputs": [
        {
          "output_type": "execute_result",
          "data": {
            "text/html": [
              "<div>\n",
              "<style scoped>\n",
              "    .dataframe tbody tr th:only-of-type {\n",
              "        vertical-align: middle;\n",
              "    }\n",
              "\n",
              "    .dataframe tbody tr th {\n",
              "        vertical-align: top;\n",
              "    }\n",
              "\n",
              "    .dataframe thead th {\n",
              "        text-align: right;\n",
              "    }\n",
              "</style>\n",
              "<table border=\"1\" class=\"dataframe\">\n",
              "  <thead>\n",
              "    <tr style=\"text-align: right;\">\n",
              "      <th></th>\n",
              "      <th>timestamp</th>\n",
              "      <th>Asset_ID</th>\n",
              "      <th>Count</th>\n",
              "      <th>Open</th>\n",
              "      <th>High</th>\n",
              "      <th>Low</th>\n",
              "      <th>Close</th>\n",
              "      <th>Volume</th>\n",
              "      <th>VWAP</th>\n",
              "      <th>Target</th>\n",
              "    </tr>\n",
              "  </thead>\n",
              "  <tbody>\n",
              "    <tr>\n",
              "      <th>0</th>\n",
              "      <td>1514764860</td>\n",
              "      <td>2</td>\n",
              "      <td>40.0</td>\n",
              "      <td>2376.5800</td>\n",
              "      <td>2399.5000</td>\n",
              "      <td>2357.1400</td>\n",
              "      <td>2374.5900</td>\n",
              "      <td>19.233005</td>\n",
              "      <td>2373.116392</td>\n",
              "      <td>-0.004218</td>\n",
              "    </tr>\n",
              "    <tr>\n",
              "      <th>1</th>\n",
              "      <td>1514764860</td>\n",
              "      <td>0</td>\n",
              "      <td>5.0</td>\n",
              "      <td>8.5300</td>\n",
              "      <td>8.5300</td>\n",
              "      <td>8.5300</td>\n",
              "      <td>8.5300</td>\n",
              "      <td>78.380000</td>\n",
              "      <td>8.530000</td>\n",
              "      <td>-0.014399</td>\n",
              "    </tr>\n",
              "    <tr>\n",
              "      <th>2</th>\n",
              "      <td>1514764860</td>\n",
              "      <td>1</td>\n",
              "      <td>229.0</td>\n",
              "      <td>13835.1940</td>\n",
              "      <td>14013.8000</td>\n",
              "      <td>13666.1100</td>\n",
              "      <td>13850.1760</td>\n",
              "      <td>31.550062</td>\n",
              "      <td>13827.062093</td>\n",
              "      <td>-0.014643</td>\n",
              "    </tr>\n",
              "    <tr>\n",
              "      <th>3</th>\n",
              "      <td>1514764860</td>\n",
              "      <td>5</td>\n",
              "      <td>32.0</td>\n",
              "      <td>7.6596</td>\n",
              "      <td>7.6596</td>\n",
              "      <td>7.6567</td>\n",
              "      <td>7.6576</td>\n",
              "      <td>6626.713370</td>\n",
              "      <td>7.657713</td>\n",
              "      <td>-0.013922</td>\n",
              "    </tr>\n",
              "    <tr>\n",
              "      <th>4</th>\n",
              "      <td>1514764860</td>\n",
              "      <td>7</td>\n",
              "      <td>5.0</td>\n",
              "      <td>25.9200</td>\n",
              "      <td>25.9200</td>\n",
              "      <td>25.8740</td>\n",
              "      <td>25.8770</td>\n",
              "      <td>121.087310</td>\n",
              "      <td>25.891363</td>\n",
              "      <td>-0.008264</td>\n",
              "    </tr>\n",
              "  </tbody>\n",
              "</table>\n",
              "</div>"
            ],
            "text/plain": [
              "    timestamp  Asset_ID  Count  ...       Volume          VWAP    Target\n",
              "0  1514764860         2   40.0  ...    19.233005   2373.116392 -0.004218\n",
              "1  1514764860         0    5.0  ...    78.380000      8.530000 -0.014399\n",
              "2  1514764860         1  229.0  ...    31.550062  13827.062093 -0.014643\n",
              "3  1514764860         5   32.0  ...  6626.713370      7.657713 -0.013922\n",
              "4  1514764860         7    5.0  ...   121.087310     25.891363 -0.008264\n",
              "\n",
              "[5 rows x 10 columns]"
            ]
          },
          "metadata": {},
          "execution_count": 4
        }
      ]
    },
    {
      "cell_type": "markdown",
      "source": [
        "----------- End -------------"
      ],
      "metadata": {
        "id": "0lAEAZWPUwwg"
      }
    },
    {
      "cell_type": "markdown",
      "source": [
        "**yaml file**"
      ],
      "metadata": {
        "id": "ReJP3peKN6O7"
      }
    },
    {
      "cell_type": "code",
      "source": [
        "%%writefile file.yaml\n",
        "file_type: csv\n",
        "file_name: train\n",
        "table_name: train\n",
        "output_file_name: out\n",
        "output_file_type: txt\n",
        "inbound_delimiter: \",\"\n",
        "outbound_delimiter: \"|\"\n",
        "columns:\n",
        "    - timestamp\n",
        "    - Asset_ID\n",
        "    - Count\n",
        "    - Open\n",
        "    - High\n",
        "    - Low\n",
        "    - Close\n",
        "    - Volume\n",
        "    - VWAP\n",
        "    - Target"
      ],
      "metadata": {
        "id": "yABLst1uAIw5",
        "colab": {
          "base_uri": "https://localhost:8080/"
        },
        "outputId": "2dafe40e-3a6c-403b-cd19-fb38baf523f3"
      },
      "execution_count": null,
      "outputs": [
        {
          "output_type": "stream",
          "name": "stdout",
          "text": [
            "Overwriting file.yaml\n"
          ]
        }
      ]
    },
    {
      "cell_type": "code",
      "source": [
        "# Read config file\n",
        "import testutility as util\n",
        "config_data = util.read_config_file(\"file.yaml\")"
      ],
      "metadata": {
        "id": "z3PSNt08-qr4"
      },
      "execution_count": null,
      "outputs": []
    },
    {
      "cell_type": "code",
      "source": [
        "config_data['inbound_delimiter']"
      ],
      "metadata": {
        "colab": {
          "base_uri": "https://localhost:8080/",
          "height": 35
        },
        "id": "VzjX1ZJ3kuu9",
        "outputId": "7fadad4f-c3ab-4901-b761-b5571aff586d"
      },
      "execution_count": null,
      "outputs": [
        {
          "output_type": "execute_result",
          "data": {
            "application/vnd.google.colaboratory.intrinsic+json": {
              "type": "string"
            },
            "text/plain": [
              "','"
            ]
          },
          "metadata": {},
          "execution_count": 5
        }
      ]
    },
    {
      "cell_type": "code",
      "source": [
        "#inspecting data of config file\n",
        "config_data"
      ],
      "metadata": {
        "colab": {
          "base_uri": "https://localhost:8080/"
        },
        "id": "VHD8vt9okyU1",
        "outputId": "dc14958c-d31c-4252-b347-6702dda2c929"
      },
      "execution_count": null,
      "outputs": [
        {
          "output_type": "execute_result",
          "data": {
            "text/plain": [
              "{'columns': ['timestamp',\n",
              "  'Asset_ID',\n",
              "  'Count',\n",
              "  'Open',\n",
              "  'High',\n",
              "  'Low',\n",
              "  'Close',\n",
              "  'Volume',\n",
              "  'VWAP',\n",
              "  'Target'],\n",
              " 'file_name': 'train',\n",
              " 'file_type': 'csv',\n",
              " 'inbound_delimiter': ',',\n",
              " 'outbound_delimiter': '|',\n",
              " 'output_file_name': 'out',\n",
              " 'output_file_type': 'txt',\n",
              " 'table_name': 'train'}"
            ]
          },
          "metadata": {},
          "execution_count": 6
        }
      ]
    },
    {
      "cell_type": "code",
      "source": [
        "# Normal reading process of the file\n",
        "import pandas as pd\n",
        "df_sample = pd.read_csv(\"/content/Data/train.csv\",delimiter=',')\n",
        "df_sample.head()"
      ],
      "metadata": {
        "colab": {
          "base_uri": "https://localhost:8080/",
          "height": 250
        },
        "id": "_3ixU2ejk42k",
        "outputId": "4eb335ca-febf-4716-dd3c-d0c5151c43f8"
      },
      "execution_count": null,
      "outputs": [
        {
          "output_type": "execute_result",
          "data": {
            "text/html": [
              "\n",
              "  <div id=\"df-48a9480c-bf51-4908-88fe-71eec2bb836b\">\n",
              "    <div class=\"colab-df-container\">\n",
              "      <div>\n",
              "<style scoped>\n",
              "    .dataframe tbody tr th:only-of-type {\n",
              "        vertical-align: middle;\n",
              "    }\n",
              "\n",
              "    .dataframe tbody tr th {\n",
              "        vertical-align: top;\n",
              "    }\n",
              "\n",
              "    .dataframe thead th {\n",
              "        text-align: right;\n",
              "    }\n",
              "</style>\n",
              "<table border=\"1\" class=\"dataframe\">\n",
              "  <thead>\n",
              "    <tr style=\"text-align: right;\">\n",
              "      <th></th>\n",
              "      <th>timestamp</th>\n",
              "      <th>Asset_ID</th>\n",
              "      <th>Count</th>\n",
              "      <th>Open</th>\n",
              "      <th>High</th>\n",
              "      <th>Low</th>\n",
              "      <th>Close</th>\n",
              "      <th>Volume</th>\n",
              "      <th>VWAP</th>\n",
              "      <th>Target</th>\n",
              "    </tr>\n",
              "  </thead>\n",
              "  <tbody>\n",
              "    <tr>\n",
              "      <th>0</th>\n",
              "      <td>1514764860</td>\n",
              "      <td>2</td>\n",
              "      <td>40.0</td>\n",
              "      <td>2376.5800</td>\n",
              "      <td>2399.5000</td>\n",
              "      <td>2357.1400</td>\n",
              "      <td>2374.5900</td>\n",
              "      <td>19.233005</td>\n",
              "      <td>2373.116392</td>\n",
              "      <td>-0.004218</td>\n",
              "    </tr>\n",
              "    <tr>\n",
              "      <th>1</th>\n",
              "      <td>1514764860</td>\n",
              "      <td>0</td>\n",
              "      <td>5.0</td>\n",
              "      <td>8.5300</td>\n",
              "      <td>8.5300</td>\n",
              "      <td>8.5300</td>\n",
              "      <td>8.5300</td>\n",
              "      <td>78.380000</td>\n",
              "      <td>8.530000</td>\n",
              "      <td>-0.014399</td>\n",
              "    </tr>\n",
              "    <tr>\n",
              "      <th>2</th>\n",
              "      <td>1514764860</td>\n",
              "      <td>1</td>\n",
              "      <td>229.0</td>\n",
              "      <td>13835.1940</td>\n",
              "      <td>14013.8000</td>\n",
              "      <td>13666.1100</td>\n",
              "      <td>13850.1760</td>\n",
              "      <td>31.550062</td>\n",
              "      <td>13827.062093</td>\n",
              "      <td>-0.014643</td>\n",
              "    </tr>\n",
              "    <tr>\n",
              "      <th>3</th>\n",
              "      <td>1514764860</td>\n",
              "      <td>5</td>\n",
              "      <td>32.0</td>\n",
              "      <td>7.6596</td>\n",
              "      <td>7.6596</td>\n",
              "      <td>7.6567</td>\n",
              "      <td>7.6576</td>\n",
              "      <td>6626.713370</td>\n",
              "      <td>7.657713</td>\n",
              "      <td>-0.013922</td>\n",
              "    </tr>\n",
              "    <tr>\n",
              "      <th>4</th>\n",
              "      <td>1514764860</td>\n",
              "      <td>7</td>\n",
              "      <td>5.0</td>\n",
              "      <td>25.9200</td>\n",
              "      <td>25.9200</td>\n",
              "      <td>25.8740</td>\n",
              "      <td>25.8770</td>\n",
              "      <td>121.087310</td>\n",
              "      <td>25.891363</td>\n",
              "      <td>-0.008264</td>\n",
              "    </tr>\n",
              "  </tbody>\n",
              "</table>\n",
              "</div>\n",
              "      <button class=\"colab-df-convert\" onclick=\"convertToInteractive('df-48a9480c-bf51-4908-88fe-71eec2bb836b')\"\n",
              "              title=\"Convert this dataframe to an interactive table.\"\n",
              "              style=\"display:none;\">\n",
              "        \n",
              "  <svg xmlns=\"http://www.w3.org/2000/svg\" height=\"24px\"viewBox=\"0 0 24 24\"\n",
              "       width=\"24px\">\n",
              "    <path d=\"M0 0h24v24H0V0z\" fill=\"none\"/>\n",
              "    <path d=\"M18.56 5.44l.94 2.06.94-2.06 2.06-.94-2.06-.94-.94-2.06-.94 2.06-2.06.94zm-11 1L8.5 8.5l.94-2.06 2.06-.94-2.06-.94L8.5 2.5l-.94 2.06-2.06.94zm10 10l.94 2.06.94-2.06 2.06-.94-2.06-.94-.94-2.06-.94 2.06-2.06.94z\"/><path d=\"M17.41 7.96l-1.37-1.37c-.4-.4-.92-.59-1.43-.59-.52 0-1.04.2-1.43.59L10.3 9.45l-7.72 7.72c-.78.78-.78 2.05 0 2.83L4 21.41c.39.39.9.59 1.41.59.51 0 1.02-.2 1.41-.59l7.78-7.78 2.81-2.81c.8-.78.8-2.07 0-2.86zM5.41 20L4 18.59l7.72-7.72 1.47 1.35L5.41 20z\"/>\n",
              "  </svg>\n",
              "      </button>\n",
              "      \n",
              "  <style>\n",
              "    .colab-df-container {\n",
              "      display:flex;\n",
              "      flex-wrap:wrap;\n",
              "      gap: 12px;\n",
              "    }\n",
              "\n",
              "    .colab-df-convert {\n",
              "      background-color: #E8F0FE;\n",
              "      border: none;\n",
              "      border-radius: 50%;\n",
              "      cursor: pointer;\n",
              "      display: none;\n",
              "      fill: #1967D2;\n",
              "      height: 32px;\n",
              "      padding: 0 0 0 0;\n",
              "      width: 32px;\n",
              "    }\n",
              "\n",
              "    .colab-df-convert:hover {\n",
              "      background-color: #E2EBFA;\n",
              "      box-shadow: 0px 1px 2px rgba(60, 64, 67, 0.3), 0px 1px 3px 1px rgba(60, 64, 67, 0.15);\n",
              "      fill: #174EA6;\n",
              "    }\n",
              "\n",
              "    [theme=dark] .colab-df-convert {\n",
              "      background-color: #3B4455;\n",
              "      fill: #D2E3FC;\n",
              "    }\n",
              "\n",
              "    [theme=dark] .colab-df-convert:hover {\n",
              "      background-color: #434B5C;\n",
              "      box-shadow: 0px 1px 3px 1px rgba(0, 0, 0, 0.15);\n",
              "      filter: drop-shadow(0px 1px 2px rgba(0, 0, 0, 0.3));\n",
              "      fill: #FFFFFF;\n",
              "    }\n",
              "  </style>\n",
              "\n",
              "      <script>\n",
              "        const buttonEl =\n",
              "          document.querySelector('#df-48a9480c-bf51-4908-88fe-71eec2bb836b button.colab-df-convert');\n",
              "        buttonEl.style.display =\n",
              "          google.colab.kernel.accessAllowed ? 'block' : 'none';\n",
              "\n",
              "        async function convertToInteractive(key) {\n",
              "          const element = document.querySelector('#df-48a9480c-bf51-4908-88fe-71eec2bb836b');\n",
              "          const dataTable =\n",
              "            await google.colab.kernel.invokeFunction('convertToInteractive',\n",
              "                                                     [key], {});\n",
              "          if (!dataTable) return;\n",
              "\n",
              "          const docLinkHtml = 'Like what you see? Visit the ' +\n",
              "            '<a target=\"_blank\" href=https://colab.research.google.com/notebooks/data_table.ipynb>data table notebook</a>'\n",
              "            + ' to learn more about interactive tables.';\n",
              "          element.innerHTML = '';\n",
              "          dataTable['output_type'] = 'display_data';\n",
              "          await google.colab.output.renderOutput(dataTable, element);\n",
              "          const docLink = document.createElement('div');\n",
              "          docLink.innerHTML = docLinkHtml;\n",
              "          element.appendChild(docLink);\n",
              "        }\n",
              "      </script>\n",
              "    </div>\n",
              "  </div>\n",
              "  "
            ],
            "text/plain": [
              "    timestamp  Asset_ID  Count  ...       Volume          VWAP    Target\n",
              "0  1514764860         2   40.0  ...    19.233005   2373.116392 -0.004218\n",
              "1  1514764860         0    5.0  ...    78.380000      8.530000 -0.014399\n",
              "2  1514764860         1  229.0  ...    31.550062  13827.062093 -0.014643\n",
              "3  1514764860         5   32.0  ...  6626.713370      7.657713 -0.013922\n",
              "4  1514764860         7    5.0  ...   121.087310     25.891363 -0.008264\n",
              "\n",
              "[5 rows x 10 columns]"
            ]
          },
          "metadata": {},
          "execution_count": 7
        }
      ]
    },
    {
      "cell_type": "code",
      "source": [
        "# read the file using config file\n",
        "file_type = config_data['file_type']\n",
        "source_file = \"./Data/\" + config_data['file_name'] + f'.{file_type}'\n",
        "print(\"\",source_file)\n",
        "df = pd.read_csv(source_file,config_data['inbound_delimiter'])\n",
        "df.head()"
      ],
      "metadata": {
        "id": "5bgRnjuIljRH",
        "colab": {
          "base_uri": "https://localhost:8080/",
          "height": 306
        },
        "outputId": "b0879110-ec95-4f04-a9ae-3161876dd95e"
      },
      "execution_count": null,
      "outputs": [
        {
          "output_type": "stream",
          "name": "stdout",
          "text": [
            " ./Data/train.csv\n"
          ]
        },
        {
          "output_type": "stream",
          "name": "stderr",
          "text": [
            "FutureWarning: In a future version of pandas all arguments of read_csv except for the argument 'filepath_or_buffer' will be keyword-only\n"
          ]
        },
        {
          "output_type": "execute_result",
          "data": {
            "text/html": [
              "\n",
              "  <div id=\"df-538c448b-d7e5-4e57-95bf-4fc9be118f98\">\n",
              "    <div class=\"colab-df-container\">\n",
              "      <div>\n",
              "<style scoped>\n",
              "    .dataframe tbody tr th:only-of-type {\n",
              "        vertical-align: middle;\n",
              "    }\n",
              "\n",
              "    .dataframe tbody tr th {\n",
              "        vertical-align: top;\n",
              "    }\n",
              "\n",
              "    .dataframe thead th {\n",
              "        text-align: right;\n",
              "    }\n",
              "</style>\n",
              "<table border=\"1\" class=\"dataframe\">\n",
              "  <thead>\n",
              "    <tr style=\"text-align: right;\">\n",
              "      <th></th>\n",
              "      <th>timestamp</th>\n",
              "      <th>Asset_ID</th>\n",
              "      <th>Count</th>\n",
              "      <th>Open</th>\n",
              "      <th>High</th>\n",
              "      <th>Low</th>\n",
              "      <th>Close</th>\n",
              "      <th>Volume</th>\n",
              "      <th>VWAP</th>\n",
              "      <th>Target</th>\n",
              "    </tr>\n",
              "  </thead>\n",
              "  <tbody>\n",
              "    <tr>\n",
              "      <th>0</th>\n",
              "      <td>1514764860</td>\n",
              "      <td>2</td>\n",
              "      <td>40.0</td>\n",
              "      <td>2376.5800</td>\n",
              "      <td>2399.5000</td>\n",
              "      <td>2357.1400</td>\n",
              "      <td>2374.5900</td>\n",
              "      <td>19.233005</td>\n",
              "      <td>2373.116392</td>\n",
              "      <td>-0.004218</td>\n",
              "    </tr>\n",
              "    <tr>\n",
              "      <th>1</th>\n",
              "      <td>1514764860</td>\n",
              "      <td>0</td>\n",
              "      <td>5.0</td>\n",
              "      <td>8.5300</td>\n",
              "      <td>8.5300</td>\n",
              "      <td>8.5300</td>\n",
              "      <td>8.5300</td>\n",
              "      <td>78.380000</td>\n",
              "      <td>8.530000</td>\n",
              "      <td>-0.014399</td>\n",
              "    </tr>\n",
              "    <tr>\n",
              "      <th>2</th>\n",
              "      <td>1514764860</td>\n",
              "      <td>1</td>\n",
              "      <td>229.0</td>\n",
              "      <td>13835.1940</td>\n",
              "      <td>14013.8000</td>\n",
              "      <td>13666.1100</td>\n",
              "      <td>13850.1760</td>\n",
              "      <td>31.550062</td>\n",
              "      <td>13827.062093</td>\n",
              "      <td>-0.014643</td>\n",
              "    </tr>\n",
              "    <tr>\n",
              "      <th>3</th>\n",
              "      <td>1514764860</td>\n",
              "      <td>5</td>\n",
              "      <td>32.0</td>\n",
              "      <td>7.6596</td>\n",
              "      <td>7.6596</td>\n",
              "      <td>7.6567</td>\n",
              "      <td>7.6576</td>\n",
              "      <td>6626.713370</td>\n",
              "      <td>7.657713</td>\n",
              "      <td>-0.013922</td>\n",
              "    </tr>\n",
              "    <tr>\n",
              "      <th>4</th>\n",
              "      <td>1514764860</td>\n",
              "      <td>7</td>\n",
              "      <td>5.0</td>\n",
              "      <td>25.9200</td>\n",
              "      <td>25.9200</td>\n",
              "      <td>25.8740</td>\n",
              "      <td>25.8770</td>\n",
              "      <td>121.087310</td>\n",
              "      <td>25.891363</td>\n",
              "      <td>-0.008264</td>\n",
              "    </tr>\n",
              "  </tbody>\n",
              "</table>\n",
              "</div>\n",
              "      <button class=\"colab-df-convert\" onclick=\"convertToInteractive('df-538c448b-d7e5-4e57-95bf-4fc9be118f98')\"\n",
              "              title=\"Convert this dataframe to an interactive table.\"\n",
              "              style=\"display:none;\">\n",
              "        \n",
              "  <svg xmlns=\"http://www.w3.org/2000/svg\" height=\"24px\"viewBox=\"0 0 24 24\"\n",
              "       width=\"24px\">\n",
              "    <path d=\"M0 0h24v24H0V0z\" fill=\"none\"/>\n",
              "    <path d=\"M18.56 5.44l.94 2.06.94-2.06 2.06-.94-2.06-.94-.94-2.06-.94 2.06-2.06.94zm-11 1L8.5 8.5l.94-2.06 2.06-.94-2.06-.94L8.5 2.5l-.94 2.06-2.06.94zm10 10l.94 2.06.94-2.06 2.06-.94-2.06-.94-.94-2.06-.94 2.06-2.06.94z\"/><path d=\"M17.41 7.96l-1.37-1.37c-.4-.4-.92-.59-1.43-.59-.52 0-1.04.2-1.43.59L10.3 9.45l-7.72 7.72c-.78.78-.78 2.05 0 2.83L4 21.41c.39.39.9.59 1.41.59.51 0 1.02-.2 1.41-.59l7.78-7.78 2.81-2.81c.8-.78.8-2.07 0-2.86zM5.41 20L4 18.59l7.72-7.72 1.47 1.35L5.41 20z\"/>\n",
              "  </svg>\n",
              "      </button>\n",
              "      \n",
              "  <style>\n",
              "    .colab-df-container {\n",
              "      display:flex;\n",
              "      flex-wrap:wrap;\n",
              "      gap: 12px;\n",
              "    }\n",
              "\n",
              "    .colab-df-convert {\n",
              "      background-color: #E8F0FE;\n",
              "      border: none;\n",
              "      border-radius: 50%;\n",
              "      cursor: pointer;\n",
              "      display: none;\n",
              "      fill: #1967D2;\n",
              "      height: 32px;\n",
              "      padding: 0 0 0 0;\n",
              "      width: 32px;\n",
              "    }\n",
              "\n",
              "    .colab-df-convert:hover {\n",
              "      background-color: #E2EBFA;\n",
              "      box-shadow: 0px 1px 2px rgba(60, 64, 67, 0.3), 0px 1px 3px 1px rgba(60, 64, 67, 0.15);\n",
              "      fill: #174EA6;\n",
              "    }\n",
              "\n",
              "    [theme=dark] .colab-df-convert {\n",
              "      background-color: #3B4455;\n",
              "      fill: #D2E3FC;\n",
              "    }\n",
              "\n",
              "    [theme=dark] .colab-df-convert:hover {\n",
              "      background-color: #434B5C;\n",
              "      box-shadow: 0px 1px 3px 1px rgba(0, 0, 0, 0.15);\n",
              "      filter: drop-shadow(0px 1px 2px rgba(0, 0, 0, 0.3));\n",
              "      fill: #FFFFFF;\n",
              "    }\n",
              "  </style>\n",
              "\n",
              "      <script>\n",
              "        const buttonEl =\n",
              "          document.querySelector('#df-538c448b-d7e5-4e57-95bf-4fc9be118f98 button.colab-df-convert');\n",
              "        buttonEl.style.display =\n",
              "          google.colab.kernel.accessAllowed ? 'block' : 'none';\n",
              "\n",
              "        async function convertToInteractive(key) {\n",
              "          const element = document.querySelector('#df-538c448b-d7e5-4e57-95bf-4fc9be118f98');\n",
              "          const dataTable =\n",
              "            await google.colab.kernel.invokeFunction('convertToInteractive',\n",
              "                                                     [key], {});\n",
              "          if (!dataTable) return;\n",
              "\n",
              "          const docLinkHtml = 'Like what you see? Visit the ' +\n",
              "            '<a target=\"_blank\" href=https://colab.research.google.com/notebooks/data_table.ipynb>data table notebook</a>'\n",
              "            + ' to learn more about interactive tables.';\n",
              "          element.innerHTML = '';\n",
              "          dataTable['output_type'] = 'display_data';\n",
              "          await google.colab.output.renderOutput(dataTable, element);\n",
              "          const docLink = document.createElement('div');\n",
              "          docLink.innerHTML = docLinkHtml;\n",
              "          element.appendChild(docLink);\n",
              "        }\n",
              "      </script>\n",
              "    </div>\n",
              "  </div>\n",
              "  "
            ],
            "text/plain": [
              "    timestamp  Asset_ID  Count  ...       Volume          VWAP    Target\n",
              "0  1514764860         2   40.0  ...    19.233005   2373.116392 -0.004218\n",
              "1  1514764860         0    5.0  ...    78.380000      8.530000 -0.014399\n",
              "2  1514764860         1  229.0  ...    31.550062  13827.062093 -0.014643\n",
              "3  1514764860         5   32.0  ...  6626.713370      7.657713 -0.013922\n",
              "4  1514764860         7    5.0  ...   121.087310     25.891363 -0.008264\n",
              "\n",
              "[5 rows x 10 columns]"
            ]
          },
          "metadata": {},
          "execution_count": 8
        }
      ]
    },
    {
      "cell_type": "code",
      "source": [
        "#validate the header of the file\n",
        "util.col_header_val(df,config_data)"
      ],
      "metadata": {
        "id": "hTReMQoPlpCU",
        "colab": {
          "base_uri": "https://localhost:8080/"
        },
        "outputId": "c66b76d5-15fa-4595-e4bf-4a6dd21d6052"
      },
      "execution_count": null,
      "outputs": [
        {
          "output_type": "stream",
          "name": "stdout",
          "text": [
            "column name and column length validation passed\n"
          ]
        },
        {
          "output_type": "execute_result",
          "data": {
            "text/plain": [
              "1"
            ]
          },
          "metadata": {},
          "execution_count": 9
        }
      ]
    },
    {
      "cell_type": "code",
      "source": [
        "print(\"columns of files are:\" ,df.columns)\n",
        "print(\"columns of YAML are:\" ,config_data['columns'])"
      ],
      "metadata": {
        "id": "lRURhG7Nlsxo",
        "colab": {
          "base_uri": "https://localhost:8080/"
        },
        "outputId": "c2d99b86-b660-4c78-88d7-32318adda063"
      },
      "execution_count": null,
      "outputs": [
        {
          "output_type": "stream",
          "name": "stdout",
          "text": [
            "columns of files are: Index(['timestamp', 'asset_id', 'count', 'open', 'high', 'low', 'close',\n",
            "       'volume', 'vwap', 'target'],\n",
            "      dtype='object')\n",
            "columns of YAML are: ['timestamp', 'Asset_ID', 'Count', 'Open', 'High', 'Low', 'Close', 'Volume', 'VWAP', 'Target']\n"
          ]
        }
      ]
    },
    {
      "cell_type": "code",
      "source": [
        "if util.col_header_val(df,config_data)==0:\n",
        "    print(\"validation failed\")\n",
        "    # write code to reject the file\n",
        "else:\n",
        "    print(\"col validation passed\")\n",
        "    # write the code to perform further action\n",
        "    # in the pipleine"
      ],
      "metadata": {
        "id": "yYGna5WClwCJ",
        "colab": {
          "base_uri": "https://localhost:8080/"
        },
        "outputId": "6568e31f-ebf7-4b0e-9c6c-5f6678b0a59f"
      },
      "execution_count": null,
      "outputs": [
        {
          "output_type": "stream",
          "name": "stdout",
          "text": [
            "column name and column length validation passed\n",
            "col validation passed\n"
          ]
        }
      ]
    },
    {
      "cell_type": "code",
      "source": [
        "output_file_path = './' +config_data['output_file_name'] +'.'+config_data['output_file_type']+'.'+'gz'\n",
        "output_file_path"
      ],
      "metadata": {
        "colab": {
          "base_uri": "https://localhost:8080/",
          "height": 35
        },
        "id": "5vAl7bD8OURJ",
        "outputId": "7009c2d0-ffa7-45c6-88d4-7aaf570225eb"
      },
      "execution_count": null,
      "outputs": [
        {
          "output_type": "execute_result",
          "data": {
            "application/vnd.google.colaboratory.intrinsic+json": {
              "type": "string"
            },
            "text/plain": [
              "'./out.txt.gz'"
            ]
          },
          "metadata": {},
          "execution_count": 12
        }
      ]
    },
    {
      "cell_type": "code",
      "source": [
        "df.to_csv(output_file_path, sep=config_data['outbound_delimiter'],compression='gzip')"
      ],
      "metadata": {
        "id": "CYjpsL7PNCfJ"
      },
      "execution_count": null,
      "outputs": []
    },
    {
      "cell_type": "markdown",
      "source": [
        "**Summary of the file**"
      ],
      "metadata": {
        "id": "H8-94fh7f_rg"
      }
    },
    {
      "cell_type": "code",
      "source": [
        "num_cols = len(df.columns)\n",
        "num_rows = df.shape[0]\n",
        "print(\"Number of columns: \",num_cols)\n",
        "print(\"Number of Rows: \",num_rows)\n",
        "df.info(memory_usage=True)\n"
      ],
      "metadata": {
        "colab": {
          "base_uri": "https://localhost:8080/"
        },
        "id": "rFmruh28gDOt",
        "outputId": "c652dd18-20b4-445d-94e3-e83f8959cc39"
      },
      "execution_count": null,
      "outputs": [
        {
          "output_type": "stream",
          "name": "stdout",
          "text": [
            "Number of columns:  10\n",
            "Number of Rows:  24236806\n",
            "<class 'pandas.core.frame.DataFrame'>\n",
            "RangeIndex: 24236806 entries, 0 to 24236805\n",
            "Data columns (total 10 columns):\n",
            " #   Column     Dtype  \n",
            "---  ------     -----  \n",
            " 0   timestamp  int64  \n",
            " 1   asset_id   int64  \n",
            " 2   count      float64\n",
            " 3   open       float64\n",
            " 4   high       float64\n",
            " 5   low        float64\n",
            " 6   close      float64\n",
            " 7   volume     float64\n",
            " 8   vwap       float64\n",
            " 9   target     float64\n",
            "dtypes: float64(8), int64(2)\n",
            "memory usage: 1.8 GB\n"
          ]
        }
      ]
    }
  ]
}